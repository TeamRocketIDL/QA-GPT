{
  "nbformat": 4,
  "nbformat_minor": 0,
  "metadata": {
    "colab": {
      "provenance": []
    },
    "kernelspec": {
      "name": "python3",
      "display_name": "Python 3"
    },
    "language_info": {
      "name": "python"
    }
  },
  "cells": [
    {
      "cell_type": "markdown",
      "source": [
        "### Requirements"
      ],
      "metadata": {
        "id": "FTg9CvMsW8yd"
      }
    },
    {
      "cell_type": "code",
      "source": [
        "# Install requirements\n",
        "!pip install transformers"
      ],
      "metadata": {
        "id": "KFcSooRbmd6x",
        "colab": {
          "base_uri": "https://localhost:8080/"
        },
        "outputId": "84048044-2d52-489a-a31f-49ac79b874b7"
      },
      "execution_count": 1,
      "outputs": [
        {
          "output_type": "stream",
          "name": "stdout",
          "text": [
            "Looking in indexes: https://pypi.org/simple, https://us-python.pkg.dev/colab-wheels/public/simple/\n",
            "Collecting transformers\n",
            "  Downloading transformers-4.28.1-py3-none-any.whl (7.0 MB)\n",
            "\u001b[2K     \u001b[90m━━━━━━━━━━━━━━━━━━━━━━━━━━━━━━━━━━━━━━━━\u001b[0m \u001b[32m7.0/7.0 MB\u001b[0m \u001b[31m37.8 MB/s\u001b[0m eta \u001b[36m0:00:00\u001b[0m\n",
            "\u001b[?25hRequirement already satisfied: regex!=2019.12.17 in /usr/local/lib/python3.9/dist-packages (from transformers) (2022.10.31)\n",
            "Requirement already satisfied: requests in /usr/local/lib/python3.9/dist-packages (from transformers) (2.27.1)\n",
            "Collecting tokenizers!=0.11.3,<0.14,>=0.11.1\n",
            "  Downloading tokenizers-0.13.3-cp39-cp39-manylinux_2_17_x86_64.manylinux2014_x86_64.whl (7.8 MB)\n",
            "\u001b[2K     \u001b[90m━━━━━━━━━━━━━━━━━━━━━━━━━━━━━━━━━━━━━━━━\u001b[0m \u001b[32m7.8/7.8 MB\u001b[0m \u001b[31m44.2 MB/s\u001b[0m eta \u001b[36m0:00:00\u001b[0m\n",
            "\u001b[?25hRequirement already satisfied: filelock in /usr/local/lib/python3.9/dist-packages (from transformers) (3.11.0)\n",
            "Requirement already satisfied: pyyaml>=5.1 in /usr/local/lib/python3.9/dist-packages (from transformers) (6.0)\n",
            "Collecting huggingface-hub<1.0,>=0.11.0\n",
            "  Downloading huggingface_hub-0.13.4-py3-none-any.whl (200 kB)\n",
            "\u001b[2K     \u001b[90m━━━━━━━━━━━━━━━━━━━━━━━━━━━━━━━━━━━━━━━\u001b[0m \u001b[32m200.1/200.1 kB\u001b[0m \u001b[31m5.6 MB/s\u001b[0m eta \u001b[36m0:00:00\u001b[0m\n",
            "\u001b[?25hRequirement already satisfied: tqdm>=4.27 in /usr/local/lib/python3.9/dist-packages (from transformers) (4.65.0)\n",
            "Requirement already satisfied: packaging>=20.0 in /usr/local/lib/python3.9/dist-packages (from transformers) (23.1)\n",
            "Requirement already satisfied: numpy>=1.17 in /usr/local/lib/python3.9/dist-packages (from transformers) (1.22.4)\n",
            "Requirement already satisfied: typing-extensions>=3.7.4.3 in /usr/local/lib/python3.9/dist-packages (from huggingface-hub<1.0,>=0.11.0->transformers) (4.5.0)\n",
            "Requirement already satisfied: idna<4,>=2.5 in /usr/local/lib/python3.9/dist-packages (from requests->transformers) (3.4)\n",
            "Requirement already satisfied: charset-normalizer~=2.0.0 in /usr/local/lib/python3.9/dist-packages (from requests->transformers) (2.0.12)\n",
            "Requirement already satisfied: urllib3<1.27,>=1.21.1 in /usr/local/lib/python3.9/dist-packages (from requests->transformers) (1.26.15)\n",
            "Requirement already satisfied: certifi>=2017.4.17 in /usr/local/lib/python3.9/dist-packages (from requests->transformers) (2022.12.7)\n",
            "Installing collected packages: tokenizers, huggingface-hub, transformers\n",
            "Successfully installed huggingface-hub-0.13.4 tokenizers-0.13.3 transformers-4.28.1\n"
          ]
        }
      ]
    },
    {
      "cell_type": "code",
      "source": [
        "# Import requirements\n",
        "from transformers import pipeline\n",
        "from transformers import DistilBertTokenizer, DistilBertForQuestionAnswering\n",
        "from transformers import AutoModelForQuestionAnswering, AutoTokenizer\n",
        "import torch\n",
        "import collections"
      ],
      "metadata": {
        "id": "DpBUintZrsbN"
      },
      "execution_count": 30,
      "outputs": []
    },
    {
      "cell_type": "markdown",
      "source": [
        "### QA classes"
      ],
      "metadata": {
        "id": "ukqVGypBXB-L"
      }
    },
    {
      "cell_type": "code",
      "execution_count": 32,
      "metadata": {
        "id": "zPzU3mtAl96n"
      },
      "outputs": [],
      "source": [
        "# QA Factory\n",
        "\n",
        "class QA_model(object):\n",
        "    def __init__(self, config):\n",
        "      self.config = config\n",
        "    \n",
        "    def download_model(self):\n",
        "      pass\n",
        "    \n",
        "    def answer_question(self):\n",
        "      pass\n",
        "\n",
        "\n",
        "def QA_factory(qa_model_type, config):\n",
        "  return globals()[qa_model_type](config)\n"
      ]
    },
    {
      "cell_type": "code",
      "source": [
        "# Pipeline QA class\n",
        "\n",
        "class pipeline_QA(QA_model):\n",
        "    def __init__(self, config, download = True):\n",
        "      super().__init__(config)\n",
        "      if download:\n",
        "        self.model = self.download_model()\n",
        "    \n",
        "    def download_model(self):\n",
        "      model = pipeline(self.config[\"model_name\"])\n",
        "      return model\n",
        "    \n",
        "    def answer_question(self, question, context):\n",
        "      answer = self.model(question = question, context = context)\n",
        "      return answer['answer']"
      ],
      "metadata": {
        "id": "sndYRS6h9XKX"
      },
      "execution_count": null,
      "outputs": []
    },
    {
      "cell_type": "code",
      "source": [
        "#Huggingface QA Class with tokenizer and model in one function\n",
        "\n",
        "class QA_one_model(QA_model):\n",
        "    def __init__(self, config):\n",
        "      super().__init__(config)\n",
        "      self.config = config\n",
        "      if self.config[\"download\"]:\n",
        "        self.model = self.download_model()\n",
        "    \n",
        "    def download_model(self):\n",
        "      model_name = self.config[\"model_name\"]\n",
        "      self.reply_model = pipeline('question-answering', model=model_name, tokenizer=model_name)\n",
        "      pass\n",
        "    \n",
        "    def answer_question(self, QA_input):\n",
        "      return self.reply_model(QA_input)\n",
        "      pass\n"
      ],
      "metadata": {
        "id": "dzOkjeokXuc0"
      },
      "execution_count": 26,
      "outputs": []
    },
    {
      "cell_type": "code",
      "source": [
        "# Huggingface QA class\n",
        "\n",
        "class huggingface_QA(QA_model):\n",
        "  def __init__(self, config, download = True):\n",
        "      super().__init__(config)\n",
        "      if download:\n",
        "        self.model = self.download_model()\n",
        "        self.tokenizer = self.download_tokenizer()\n",
        "  \n",
        "  def download_model(self):\n",
        "    if \"distilbert\" in self.config[\"model_name\"]:\n",
        "      self.model = DistilBertForQuestionAnswering.from_pretrained(self.config[\"model_name\"], return_dict = self.config[\"return_dict\"])\n",
        "    else:\n",
        "      self.model = AutoModelForQuestionAnswering.from_pretrained(self.config[\"model_name\"])\n",
        "    return self.model\n",
        "  \n",
        "  def download_tokenizer(self):\n",
        "    if \"distilbert\" in self.config[\"tokenizer_name\"]:\n",
        "      self.tokenizer = DistilBertTokenizer.from_pretrained(self.config[\"tokenizer_name\"], return_token_type_ids = self.config[\"return_token_type_ids\"])\n",
        "    else:\n",
        "      self.tokenizer = AutoTokenizer.from_pretrained(self.config[\"tokenizer_name\"])\n",
        "    return self.tokenizer\n",
        "  \n",
        "  def answer_question(self, question, context):\n",
        "    encoding = self.tokenizer.encode_plus(question, context)\n",
        "    input_ids, attention_mask = encoding[\"input_ids\"], encoding[\"attention_mask\"]\n",
        "    start_scores, end_scores = self.model(torch.tensor([input_ids]), attention_mask=torch.tensor([attention_mask]))\n",
        "    ans_tokens = input_ids[torch.argmax(start_scores) : torch.argmax(end_scores)+1]\n",
        "    answer_tokens = self.tokenizer.convert_ids_to_tokens(ans_tokens , skip_special_tokens=self.config[\"skip_special_tokens\"])\n",
        "    answer_tokens_to_string = self.tokenizer.convert_tokens_to_string(answer_tokens)\n",
        "    return answer_tokens_to_string"
      ],
      "metadata": {
        "id": "i3H9tt48937E"
      },
      "execution_count": 33,
      "outputs": []
    },
    {
      "cell_type": "markdown",
      "source": [
        "### Evaluation Metrics"
      ],
      "metadata": {
        "id": "PI3-rq7vXFOl"
      }
    },
    {
      "cell_type": "code",
      "source": [
        "# Exact Match\n",
        "\n",
        "def exact_match(generated_answer, ground_truth):\n",
        "  if ground_truth == generated_answer:\n",
        "    return True\n",
        "  else:\n",
        "    return False"
      ],
      "metadata": {
        "id": "mxq8y50AW62A"
      },
      "execution_count": 15,
      "outputs": []
    },
    {
      "cell_type": "code",
      "source": [
        "# F1 Score\n",
        "\n",
        "def f1_score(generated_answer, ground_truth):\n",
        "  ground_truth_tokens = ground_truth.split(\" \")\n",
        "  generated_answer_tokens = generated_answer.split(\" \")\n",
        "\n",
        "  if len(ground_truth_tokens) == 0 or len(generated_answer_tokens) == 0:\n",
        "    return (ground_truth_tokens == generated_answer_tokens)\n",
        "\n",
        "  common_tokens = collections.Counter(ground_truth_tokens) & collections.Counter(generated_answer_tokens)\n",
        "  num_common_tokens_same = sum(common_tokens.values())\n",
        "  \n",
        "  if num_common_tokens_same == 0:\n",
        "    return 0\n",
        "  \n",
        "  precision = 1.0 * num_common_tokens_same / len(generated_answer_tokens)\n",
        "  recall = 1.0 * num_common_tokens_same / len(ground_truth_tokens)\n",
        "\n",
        "  f1 = (2 * precision * recall) / (precision + recall)\n",
        "  return f1"
      ],
      "metadata": {
        "id": "GeBVgU2jYe9m"
      },
      "execution_count": 16,
      "outputs": []
    },
    {
      "cell_type": "markdown",
      "source": [
        "### Workflows"
      ],
      "metadata": {
        "id": "S1jCBOxlXJyp"
      }
    },
    {
      "cell_type": "markdown",
      "source": [
        "Sid wrote this part"
      ],
      "metadata": {
        "id": "FCmJ6hlCZ11-"
      }
    },
    {
      "cell_type": "code",
      "source": [
        "QA_input = {\n",
        "    'question': 'Why is model conversion important?',\n",
        "    'context': 'The option to convert models between FARM and transformers gives freedom to the user and let people easily switch between frameworks.'\n",
        "}"
      ],
      "metadata": {
        "id": "SQH4yB2DZl1Z"
      },
      "execution_count": 27,
      "outputs": []
    },
    {
      "cell_type": "code",
      "source": [
        "config = {\n",
        "      \"model_name\": \"deepset/tinyroberta-squad2\",\n",
        "      \"download\": True,\n",
        "  }\n",
        "\n",
        "\n",
        "QA_model = QA_factory(\"QA_one_model\", config)"
      ],
      "metadata": {
        "id": "L245sNXSZplL"
      },
      "execution_count": 28,
      "outputs": []
    },
    {
      "cell_type": "code",
      "source": [
        "QA_model.answer_question(QA_input)"
      ],
      "metadata": {
        "colab": {
          "base_uri": "https://localhost:8080/"
        },
        "id": "gzDLqdYQaLF7",
        "outputId": "7584d909-bda5-4238-bbaf-bbc48574c210"
      },
      "execution_count": 29,
      "outputs": [
        {
          "output_type": "execute_result",
          "data": {
            "text/plain": [
              "{'score': 0.2624489367008209,\n",
              " 'start': 59,\n",
              " 'end': 132,\n",
              " 'answer': 'gives freedom to the user and let people easily switch between frameworks'}"
            ]
          },
          "metadata": {},
          "execution_count": 29
        }
      ]
    },
    {
      "cell_type": "markdown",
      "source": [
        "EL Shravs area"
      ],
      "metadata": {
        "id": "MMzJ8uEPZ5ka"
      }
    },
    {
      "cell_type": "code",
      "source": [],
      "metadata": {
        "id": "U9_qIvGRZ5RY"
      },
      "execution_count": null,
      "outputs": []
    },
    {
      "cell_type": "code",
      "source": [
        "questions = [\"Where is the ball?\"]\n",
        "contexts = [\"The chair is near the table, and the ball is behind the chair.\"]\n",
        "ground_truths = [\"it is behind the chair\"]"
      ],
      "metadata": {
        "id": "1qi0w2baYqMl"
      },
      "execution_count": null,
      "outputs": []
    },
    {
      "cell_type": "code",
      "source": [
        "# Workflow Two\n",
        "\n",
        "def workflow_2():\n",
        "  config = {\n",
        "      \"tokenizer_name\": \"distilbert-base-uncased\",\n",
        "      \"model_name\": \"distilbert-base-uncased-distilled-squad\",\n",
        "      \"return_token_type_ids\": True,\n",
        "      \"skip_special_tokens\": True,\n",
        "      \"return_dict\": False\n",
        "  }\n",
        "\n",
        "  QA_model = QA_factory(\"huggingface_QA\", config)\n",
        "\n",
        "  exact_match_scores = list()\n",
        "  f1_scores = list()\n",
        "\n",
        "  for i in range(len(questions)):\n",
        "    question_i = questions[i]\n",
        "    context_i = contexts[i]\n",
        "    ground_truth_i = ground_truths[i]\n",
        "\n",
        "    predicted_answer_i = QA_model.answer_question(question_i, context_i)\n",
        "\n",
        "    em_score_i = exact_match(predicted_answer_i, ground_truth_i)\n",
        "    f1_score_i = f1_score(predicted_answer_i, ground_truth_i)\n",
        "\n",
        "    exact_match_scores.append(em_score_i)\n",
        "    f1_scores.append(f1_score_i)\n",
        "  \n",
        "  avg_em_score = sum(exact_match_scores) / len(exact_match_scores)\n",
        "  print(\"Exact Match Score: \", avg_em_score)\n",
        "\n",
        "  avg_f1_score = sum(f1_scores) / len(f1_scores)\n",
        "  print(\"F1 Score: \", avg_f1_score)\n",
        "\n",
        "workflow_2()"
      ],
      "metadata": {
        "colab": {
          "base_uri": "https://localhost:8080/"
        },
        "id": "0XX5sUgRPug8",
        "outputId": "9ff74412-51c9-4899-d095-ae3a7a120eaa"
      },
      "execution_count": null,
      "outputs": [
        {
          "output_type": "stream",
          "name": "stdout",
          "text": [
            "Exact Match Score:  0.0\n",
            "F1 Score:  0.7499999999999999\n"
          ]
        }
      ]
    },
    {
      "cell_type": "code",
      "source": [
        "# Workflow One\n",
        "\n",
        "def workflow_1():\n",
        "  config = {\n",
        "      \"model_name\": \"question-answering\"\n",
        "  }\n",
        "  QA_model = QA_factory(\"pipeline_QA\", config) \n",
        "\n",
        "  exact_match_scores = list()\n",
        "  f1_scores = list()\n",
        "\n",
        "  for i in range(len(questions)):\n",
        "    question_i = questions[i]\n",
        "    context_i = contexts[i]\n",
        "    ground_truth_i = ground_truths[i]\n",
        "\n",
        "    predicted_answer_i = QA_model.answer_question(question_i, context_i)\n",
        "\n",
        "    em_score_i = exact_match(predicted_answer_i, ground_truth_i)\n",
        "    f1_score_i = f1_score(predicted_answer_i, ground_truth_i)\n",
        "\n",
        "    exact_match_scores.append(em_score_i)\n",
        "    f1_scores.append(f1_score_i)\n",
        "  \n",
        "  avg_em_score = sum(exact_match_scores) / len(exact_match_scores)\n",
        "  print(\"Exact Match Score: \", avg_em_score)\n",
        "\n",
        "  avg_f1_score = sum(f1_scores) / len(f1_scores)\n",
        "  print(\"F1 Score: \", avg_f1_score)\n",
        "\n",
        "workflow_1()"
      ],
      "metadata": {
        "colab": {
          "base_uri": "https://localhost:8080/"
        },
        "id": "F6GyG4amrR7S",
        "outputId": "c2a2f5d4-7c04-437b-dbc1-1bbece3ed58e"
      },
      "execution_count": null,
      "outputs": [
        {
          "output_type": "stream",
          "name": "stderr",
          "text": [
            "No model was supplied, defaulted to distilbert-base-cased-distilled-squad and revision 626af31 (https://huggingface.co/distilbert-base-cased-distilled-squad).\n",
            "Using a pipeline without specifying a model name and revision in production is not recommended.\n"
          ]
        },
        {
          "output_type": "stream",
          "name": "stdout",
          "text": [
            "Exact Match Score:  0.0\n",
            "F1 Score:  0.7499999999999999\n"
          ]
        }
      ]
    }
  ]
}